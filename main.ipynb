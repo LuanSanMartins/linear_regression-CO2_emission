{
 "cells": [
  {
   "cell_type": "markdown",
   "id": "dbd79c12",
   "metadata": {},
   "source": [
    "# Aula Assincrona 02"
   ]
  },
  {
   "cell_type": "markdown",
   "id": "25d2e065",
   "metadata": {},
   "source": [
    "**Nome:** Luan Carlos Martins dos Santos, 23022464"
   ]
  },
  {
   "cell_type": "code",
   "execution_count": 1,
   "id": "24f6c6cf",
   "metadata": {},
   "outputs": [],
   "source": [
    "# Importar as Bibliotecas\n",
    "from os import getcwd, sep\n",
    "import pandas as pd\n",
    "import numpy as np\n",
    "import seaborn as sns\n",
    "from scipy import stats\n",
    "import matplotlib.pyplot as plt\n",
    "import warnings"
   ]
  },
  {
   "cell_type": "code",
   "execution_count": 2,
   "id": "54630ef7",
   "metadata": {},
   "outputs": [],
   "source": [
    "# Comando para ignorar as mensagens de avisos\n",
    "warnings.filterwarnings('ignore')"
   ]
  },
  {
   "cell_type": "markdown",
   "id": "8bc4fc7f",
   "metadata": {},
   "source": [
    "1. Exiba a Matriz de Correlação entre as variáveis"
   ]
  },
  {
   "cell_type": "code",
   "execution_count": 3,
   "id": "68288238",
   "metadata": {},
   "outputs": [
    {
     "data": {
      "text/html": [
       "<div>\n",
       "<style scoped>\n",
       "    .dataframe tbody tr th:only-of-type {\n",
       "        vertical-align: middle;\n",
       "    }\n",
       "\n",
       "    .dataframe tbody tr th {\n",
       "        vertical-align: top;\n",
       "    }\n",
       "\n",
       "    .dataframe thead th {\n",
       "        text-align: right;\n",
       "    }\n",
       "</style>\n",
       "<table border=\"1\" class=\"dataframe\">\n",
       "  <thead>\n",
       "    <tr style=\"text-align: right;\">\n",
       "      <th></th>\n",
       "      <th>MODELYEAR</th>\n",
       "      <th>MAKE</th>\n",
       "      <th>MODEL</th>\n",
       "      <th>VEHICLECLASS</th>\n",
       "      <th>ENGINESIZE</th>\n",
       "      <th>CYLINDERS</th>\n",
       "      <th>TRANSMISSION</th>\n",
       "      <th>FUELTYPE</th>\n",
       "      <th>FUELCONSUMPTION_CITY</th>\n",
       "      <th>FUELCONSUMPTION_HWY</th>\n",
       "      <th>FUELCONSUMPTION_COMB</th>\n",
       "      <th>FUELCONSUMPTION_COMB_MPG</th>\n",
       "      <th>CO2EMISSIONS</th>\n",
       "    </tr>\n",
       "  </thead>\n",
       "  <tbody>\n",
       "    <tr>\n",
       "      <th>0</th>\n",
       "      <td>2014</td>\n",
       "      <td>ACURA</td>\n",
       "      <td>ILX</td>\n",
       "      <td>COMPACT</td>\n",
       "      <td>2.0</td>\n",
       "      <td>4</td>\n",
       "      <td>AS5</td>\n",
       "      <td>Z</td>\n",
       "      <td>9.9</td>\n",
       "      <td>6.7</td>\n",
       "      <td>8.5</td>\n",
       "      <td>33</td>\n",
       "      <td>196</td>\n",
       "    </tr>\n",
       "    <tr>\n",
       "      <th>1</th>\n",
       "      <td>2014</td>\n",
       "      <td>ACURA</td>\n",
       "      <td>ILX</td>\n",
       "      <td>COMPACT</td>\n",
       "      <td>2.4</td>\n",
       "      <td>4</td>\n",
       "      <td>M6</td>\n",
       "      <td>Z</td>\n",
       "      <td>11.2</td>\n",
       "      <td>7.7</td>\n",
       "      <td>9.6</td>\n",
       "      <td>29</td>\n",
       "      <td>221</td>\n",
       "    </tr>\n",
       "    <tr>\n",
       "      <th>2</th>\n",
       "      <td>2014</td>\n",
       "      <td>ACURA</td>\n",
       "      <td>ILX HYBRID</td>\n",
       "      <td>COMPACT</td>\n",
       "      <td>1.5</td>\n",
       "      <td>4</td>\n",
       "      <td>AV7</td>\n",
       "      <td>Z</td>\n",
       "      <td>6.0</td>\n",
       "      <td>5.8</td>\n",
       "      <td>5.9</td>\n",
       "      <td>48</td>\n",
       "      <td>136</td>\n",
       "    </tr>\n",
       "    <tr>\n",
       "      <th>3</th>\n",
       "      <td>2014</td>\n",
       "      <td>ACURA</td>\n",
       "      <td>MDX 4WD</td>\n",
       "      <td>SUV - SMALL</td>\n",
       "      <td>3.5</td>\n",
       "      <td>6</td>\n",
       "      <td>AS6</td>\n",
       "      <td>Z</td>\n",
       "      <td>12.7</td>\n",
       "      <td>9.1</td>\n",
       "      <td>11.1</td>\n",
       "      <td>25</td>\n",
       "      <td>255</td>\n",
       "    </tr>\n",
       "    <tr>\n",
       "      <th>4</th>\n",
       "      <td>2014</td>\n",
       "      <td>ACURA</td>\n",
       "      <td>RDX AWD</td>\n",
       "      <td>SUV - SMALL</td>\n",
       "      <td>3.5</td>\n",
       "      <td>6</td>\n",
       "      <td>AS6</td>\n",
       "      <td>Z</td>\n",
       "      <td>12.1</td>\n",
       "      <td>8.7</td>\n",
       "      <td>10.6</td>\n",
       "      <td>27</td>\n",
       "      <td>244</td>\n",
       "    </tr>\n",
       "    <tr>\n",
       "      <th>...</th>\n",
       "      <td>...</td>\n",
       "      <td>...</td>\n",
       "      <td>...</td>\n",
       "      <td>...</td>\n",
       "      <td>...</td>\n",
       "      <td>...</td>\n",
       "      <td>...</td>\n",
       "      <td>...</td>\n",
       "      <td>...</td>\n",
       "      <td>...</td>\n",
       "      <td>...</td>\n",
       "      <td>...</td>\n",
       "      <td>...</td>\n",
       "    </tr>\n",
       "    <tr>\n",
       "      <th>1062</th>\n",
       "      <td>2014</td>\n",
       "      <td>VOLVO</td>\n",
       "      <td>XC60 AWD</td>\n",
       "      <td>SUV - SMALL</td>\n",
       "      <td>3.0</td>\n",
       "      <td>6</td>\n",
       "      <td>AS6</td>\n",
       "      <td>X</td>\n",
       "      <td>13.4</td>\n",
       "      <td>9.8</td>\n",
       "      <td>11.8</td>\n",
       "      <td>24</td>\n",
       "      <td>271</td>\n",
       "    </tr>\n",
       "    <tr>\n",
       "      <th>1063</th>\n",
       "      <td>2014</td>\n",
       "      <td>VOLVO</td>\n",
       "      <td>XC60 AWD</td>\n",
       "      <td>SUV - SMALL</td>\n",
       "      <td>3.2</td>\n",
       "      <td>6</td>\n",
       "      <td>AS6</td>\n",
       "      <td>X</td>\n",
       "      <td>13.2</td>\n",
       "      <td>9.5</td>\n",
       "      <td>11.5</td>\n",
       "      <td>25</td>\n",
       "      <td>264</td>\n",
       "    </tr>\n",
       "    <tr>\n",
       "      <th>1064</th>\n",
       "      <td>2014</td>\n",
       "      <td>VOLVO</td>\n",
       "      <td>XC70 AWD</td>\n",
       "      <td>SUV - SMALL</td>\n",
       "      <td>3.0</td>\n",
       "      <td>6</td>\n",
       "      <td>AS6</td>\n",
       "      <td>X</td>\n",
       "      <td>13.4</td>\n",
       "      <td>9.8</td>\n",
       "      <td>11.8</td>\n",
       "      <td>24</td>\n",
       "      <td>271</td>\n",
       "    </tr>\n",
       "    <tr>\n",
       "      <th>1065</th>\n",
       "      <td>2014</td>\n",
       "      <td>VOLVO</td>\n",
       "      <td>XC70 AWD</td>\n",
       "      <td>SUV - SMALL</td>\n",
       "      <td>3.2</td>\n",
       "      <td>6</td>\n",
       "      <td>AS6</td>\n",
       "      <td>X</td>\n",
       "      <td>12.9</td>\n",
       "      <td>9.3</td>\n",
       "      <td>11.3</td>\n",
       "      <td>25</td>\n",
       "      <td>260</td>\n",
       "    </tr>\n",
       "    <tr>\n",
       "      <th>1066</th>\n",
       "      <td>2014</td>\n",
       "      <td>VOLVO</td>\n",
       "      <td>XC90 AWD</td>\n",
       "      <td>SUV - STANDARD</td>\n",
       "      <td>3.2</td>\n",
       "      <td>6</td>\n",
       "      <td>AS6</td>\n",
       "      <td>X</td>\n",
       "      <td>14.9</td>\n",
       "      <td>10.2</td>\n",
       "      <td>12.8</td>\n",
       "      <td>22</td>\n",
       "      <td>294</td>\n",
       "    </tr>\n",
       "  </tbody>\n",
       "</table>\n",
       "<p>1067 rows × 13 columns</p>\n",
       "</div>"
      ],
      "text/plain": [
       "      MODELYEAR   MAKE       MODEL    VEHICLECLASS  ENGINESIZE  CYLINDERS  \\\n",
       "0          2014  ACURA         ILX         COMPACT         2.0          4   \n",
       "1          2014  ACURA         ILX         COMPACT         2.4          4   \n",
       "2          2014  ACURA  ILX HYBRID         COMPACT         1.5          4   \n",
       "3          2014  ACURA     MDX 4WD     SUV - SMALL         3.5          6   \n",
       "4          2014  ACURA     RDX AWD     SUV - SMALL         3.5          6   \n",
       "...         ...    ...         ...             ...         ...        ...   \n",
       "1062       2014  VOLVO    XC60 AWD     SUV - SMALL         3.0          6   \n",
       "1063       2014  VOLVO    XC60 AWD     SUV - SMALL         3.2          6   \n",
       "1064       2014  VOLVO    XC70 AWD     SUV - SMALL         3.0          6   \n",
       "1065       2014  VOLVO    XC70 AWD     SUV - SMALL         3.2          6   \n",
       "1066       2014  VOLVO    XC90 AWD  SUV - STANDARD         3.2          6   \n",
       "\n",
       "     TRANSMISSION FUELTYPE  FUELCONSUMPTION_CITY  FUELCONSUMPTION_HWY  \\\n",
       "0             AS5        Z                   9.9                  6.7   \n",
       "1              M6        Z                  11.2                  7.7   \n",
       "2             AV7        Z                   6.0                  5.8   \n",
       "3             AS6        Z                  12.7                  9.1   \n",
       "4             AS6        Z                  12.1                  8.7   \n",
       "...           ...      ...                   ...                  ...   \n",
       "1062          AS6        X                  13.4                  9.8   \n",
       "1063          AS6        X                  13.2                  9.5   \n",
       "1064          AS6        X                  13.4                  9.8   \n",
       "1065          AS6        X                  12.9                  9.3   \n",
       "1066          AS6        X                  14.9                 10.2   \n",
       "\n",
       "      FUELCONSUMPTION_COMB  FUELCONSUMPTION_COMB_MPG  CO2EMISSIONS  \n",
       "0                      8.5                        33           196  \n",
       "1                      9.6                        29           221  \n",
       "2                      5.9                        48           136  \n",
       "3                     11.1                        25           255  \n",
       "4                     10.6                        27           244  \n",
       "...                    ...                       ...           ...  \n",
       "1062                  11.8                        24           271  \n",
       "1063                  11.5                        25           264  \n",
       "1064                  11.8                        24           271  \n",
       "1065                  11.3                        25           260  \n",
       "1066                  12.8                        22           294  \n",
       "\n",
       "[1067 rows x 13 columns]"
      ]
     },
     "execution_count": 3,
     "metadata": {},
     "output_type": "execute_result"
    }
   ],
   "source": [
    "# Ler o dataset\n",
    "df = pd.read_csv(getcwd()+sep+\"FuelConsumptionCo2.csv\")\n",
    "df"
   ]
  },
  {
   "cell_type": "code",
   "execution_count": 4,
   "id": "a0473ef6",
   "metadata": {},
   "outputs": [
    {
     "data": {
      "text/plain": [
       "MODELYEAR                     int64\n",
       "MAKE                         object\n",
       "MODEL                        object\n",
       "VEHICLECLASS                 object\n",
       "ENGINESIZE                  float64\n",
       "CYLINDERS                     int64\n",
       "TRANSMISSION                 object\n",
       "FUELTYPE                     object\n",
       "FUELCONSUMPTION_CITY        float64\n",
       "FUELCONSUMPTION_HWY         float64\n",
       "FUELCONSUMPTION_COMB        float64\n",
       "FUELCONSUMPTION_COMB_MPG      int64\n",
       "CO2EMISSIONS                  int64\n",
       "dtype: object"
      ]
     },
     "execution_count": 4,
     "metadata": {},
     "output_type": "execute_result"
    }
   ],
   "source": [
    "# verificar o tipo das variáveis\n",
    "df.dtypes"
   ]
  },
  {
   "cell_type": "code",
   "execution_count": 5,
   "id": "15787146",
   "metadata": {},
   "outputs": [
    {
     "data": {
      "text/plain": [
       "MODELYEAR                   0\n",
       "MAKE                        0\n",
       "MODEL                       0\n",
       "VEHICLECLASS                0\n",
       "ENGINESIZE                  0\n",
       "CYLINDERS                   0\n",
       "TRANSMISSION                0\n",
       "FUELTYPE                    0\n",
       "FUELCONSUMPTION_CITY        0\n",
       "FUELCONSUMPTION_HWY         0\n",
       "FUELCONSUMPTION_COMB        0\n",
       "FUELCONSUMPTION_COMB_MPG    0\n",
       "CO2EMISSIONS                0\n",
       "dtype: int64"
      ]
     },
     "execution_count": 5,
     "metadata": {},
     "output_type": "execute_result"
    }
   ],
   "source": [
    "# Verificar se há valores faltantes\n",
    "df.isnull().sum()"
   ]
  },
  {
   "cell_type": "code",
   "execution_count": 6,
   "id": "41c92ea1",
   "metadata": {},
   "outputs": [
    {
     "data": {
      "text/html": [
       "<div>\n",
       "<style scoped>\n",
       "    .dataframe tbody tr th:only-of-type {\n",
       "        vertical-align: middle;\n",
       "    }\n",
       "\n",
       "    .dataframe tbody tr th {\n",
       "        vertical-align: top;\n",
       "    }\n",
       "\n",
       "    .dataframe thead th {\n",
       "        text-align: right;\n",
       "    }\n",
       "</style>\n",
       "<table border=\"1\" class=\"dataframe\">\n",
       "  <thead>\n",
       "    <tr style=\"text-align: right;\">\n",
       "      <th></th>\n",
       "      <th>ENGINESIZE</th>\n",
       "      <th>CYLINDERS</th>\n",
       "      <th>FUELCONSUMPTION_CITY</th>\n",
       "      <th>FUELCONSUMPTION_HWY</th>\n",
       "      <th>FUELCONSUMPTION_COMB</th>\n",
       "      <th>FUELCONSUMPTION_COMB_MPG</th>\n",
       "      <th>CO2EMISSIONS</th>\n",
       "    </tr>\n",
       "  </thead>\n",
       "  <tbody>\n",
       "    <tr>\n",
       "      <th>ENGINESIZE</th>\n",
       "      <td>1.000000</td>\n",
       "      <td>0.934011</td>\n",
       "      <td>0.832225</td>\n",
       "      <td>0.778746</td>\n",
       "      <td>0.819482</td>\n",
       "      <td>-0.808554</td>\n",
       "      <td>0.874154</td>\n",
       "    </tr>\n",
       "    <tr>\n",
       "      <th>CYLINDERS</th>\n",
       "      <td>0.934011</td>\n",
       "      <td>1.000000</td>\n",
       "      <td>0.796473</td>\n",
       "      <td>0.724594</td>\n",
       "      <td>0.776788</td>\n",
       "      <td>-0.770430</td>\n",
       "      <td>0.849685</td>\n",
       "    </tr>\n",
       "    <tr>\n",
       "      <th>FUELCONSUMPTION_CITY</th>\n",
       "      <td>0.832225</td>\n",
       "      <td>0.796473</td>\n",
       "      <td>1.000000</td>\n",
       "      <td>0.965718</td>\n",
       "      <td>0.995542</td>\n",
       "      <td>-0.935613</td>\n",
       "      <td>0.898039</td>\n",
       "    </tr>\n",
       "    <tr>\n",
       "      <th>FUELCONSUMPTION_HWY</th>\n",
       "      <td>0.778746</td>\n",
       "      <td>0.724594</td>\n",
       "      <td>0.965718</td>\n",
       "      <td>1.000000</td>\n",
       "      <td>0.985804</td>\n",
       "      <td>-0.893809</td>\n",
       "      <td>0.861748</td>\n",
       "    </tr>\n",
       "    <tr>\n",
       "      <th>FUELCONSUMPTION_COMB</th>\n",
       "      <td>0.819482</td>\n",
       "      <td>0.776788</td>\n",
       "      <td>0.995542</td>\n",
       "      <td>0.985804</td>\n",
       "      <td>1.000000</td>\n",
       "      <td>-0.927965</td>\n",
       "      <td>0.892129</td>\n",
       "    </tr>\n",
       "    <tr>\n",
       "      <th>FUELCONSUMPTION_COMB_MPG</th>\n",
       "      <td>-0.808554</td>\n",
       "      <td>-0.770430</td>\n",
       "      <td>-0.935613</td>\n",
       "      <td>-0.893809</td>\n",
       "      <td>-0.927965</td>\n",
       "      <td>1.000000</td>\n",
       "      <td>-0.906394</td>\n",
       "    </tr>\n",
       "    <tr>\n",
       "      <th>CO2EMISSIONS</th>\n",
       "      <td>0.874154</td>\n",
       "      <td>0.849685</td>\n",
       "      <td>0.898039</td>\n",
       "      <td>0.861748</td>\n",
       "      <td>0.892129</td>\n",
       "      <td>-0.906394</td>\n",
       "      <td>1.000000</td>\n",
       "    </tr>\n",
       "  </tbody>\n",
       "</table>\n",
       "</div>"
      ],
      "text/plain": [
       "                          ENGINESIZE  CYLINDERS  FUELCONSUMPTION_CITY  \\\n",
       "ENGINESIZE                  1.000000   0.934011              0.832225   \n",
       "CYLINDERS                   0.934011   1.000000              0.796473   \n",
       "FUELCONSUMPTION_CITY        0.832225   0.796473              1.000000   \n",
       "FUELCONSUMPTION_HWY         0.778746   0.724594              0.965718   \n",
       "FUELCONSUMPTION_COMB        0.819482   0.776788              0.995542   \n",
       "FUELCONSUMPTION_COMB_MPG   -0.808554  -0.770430             -0.935613   \n",
       "CO2EMISSIONS                0.874154   0.849685              0.898039   \n",
       "\n",
       "                          FUELCONSUMPTION_HWY  FUELCONSUMPTION_COMB  \\\n",
       "ENGINESIZE                           0.778746              0.819482   \n",
       "CYLINDERS                            0.724594              0.776788   \n",
       "FUELCONSUMPTION_CITY                 0.965718              0.995542   \n",
       "FUELCONSUMPTION_HWY                  1.000000              0.985804   \n",
       "FUELCONSUMPTION_COMB                 0.985804              1.000000   \n",
       "FUELCONSUMPTION_COMB_MPG            -0.893809             -0.927965   \n",
       "CO2EMISSIONS                         0.861748              0.892129   \n",
       "\n",
       "                          FUELCONSUMPTION_COMB_MPG  CO2EMISSIONS  \n",
       "ENGINESIZE                               -0.808554      0.874154  \n",
       "CYLINDERS                                -0.770430      0.849685  \n",
       "FUELCONSUMPTION_CITY                     -0.935613      0.898039  \n",
       "FUELCONSUMPTION_HWY                      -0.893809      0.861748  \n",
       "FUELCONSUMPTION_COMB                     -0.927965      0.892129  \n",
       "FUELCONSUMPTION_COMB_MPG                  1.000000     -0.906394  \n",
       "CO2EMISSIONS                             -0.906394      1.000000  "
      ]
     },
     "execution_count": 6,
     "metadata": {},
     "output_type": "execute_result"
    }
   ],
   "source": [
    "# Calcular e exibir a matriz de correlação entre os dados\n",
    "correlacao = df.iloc[:, 1:].corr(method ='pearson')\n",
    "correlacao"
   ]
  },
  {
   "cell_type": "markdown",
   "id": "bbf958ee",
   "metadata": {},
   "source": [
    "2. Atualize os nomes das seguintes colunas:\n",
    "\n",
    "- 2.1. FUELCONSUMPTION_CITY = FUELCONSCITY\n",
    "- 2.2. FUELCONSUMPTION_HWY = FUELCONSHWY\n",
    "- 2.3. FUELCONSUMPTION_COMB = FUELCONSCOMB\n",
    "- 2.4. FUELCONSUMPTION_COMB_MPG = FUELCONSCOMBMPG"
   ]
  },
  {
   "cell_type": "code",
   "execution_count": 7,
   "id": "5b64ef65",
   "metadata": {},
   "outputs": [
    {
     "data": {
      "text/html": [
       "<div>\n",
       "<style scoped>\n",
       "    .dataframe tbody tr th:only-of-type {\n",
       "        vertical-align: middle;\n",
       "    }\n",
       "\n",
       "    .dataframe tbody tr th {\n",
       "        vertical-align: top;\n",
       "    }\n",
       "\n",
       "    .dataframe thead th {\n",
       "        text-align: right;\n",
       "    }\n",
       "</style>\n",
       "<table border=\"1\" class=\"dataframe\">\n",
       "  <thead>\n",
       "    <tr style=\"text-align: right;\">\n",
       "      <th></th>\n",
       "      <th>MODELYEAR</th>\n",
       "      <th>MAKE</th>\n",
       "      <th>MODEL</th>\n",
       "      <th>VEHICLECLASS</th>\n",
       "      <th>ENGINESIZE</th>\n",
       "      <th>CYLINDERS</th>\n",
       "      <th>TRANSMISSION</th>\n",
       "      <th>FUELTYPE</th>\n",
       "      <th>FUELCONSCITY</th>\n",
       "      <th>FUELCONSHWY</th>\n",
       "      <th>FUELCONSCOMB</th>\n",
       "      <th>FUELCONSCOMBMPG</th>\n",
       "      <th>CO2EMISSIONS</th>\n",
       "    </tr>\n",
       "  </thead>\n",
       "  <tbody>\n",
       "    <tr>\n",
       "      <th>0</th>\n",
       "      <td>2014</td>\n",
       "      <td>ACURA</td>\n",
       "      <td>ILX</td>\n",
       "      <td>COMPACT</td>\n",
       "      <td>2.0</td>\n",
       "      <td>4</td>\n",
       "      <td>AS5</td>\n",
       "      <td>Z</td>\n",
       "      <td>9.9</td>\n",
       "      <td>6.7</td>\n",
       "      <td>8.5</td>\n",
       "      <td>33</td>\n",
       "      <td>196</td>\n",
       "    </tr>\n",
       "    <tr>\n",
       "      <th>1</th>\n",
       "      <td>2014</td>\n",
       "      <td>ACURA</td>\n",
       "      <td>ILX</td>\n",
       "      <td>COMPACT</td>\n",
       "      <td>2.4</td>\n",
       "      <td>4</td>\n",
       "      <td>M6</td>\n",
       "      <td>Z</td>\n",
       "      <td>11.2</td>\n",
       "      <td>7.7</td>\n",
       "      <td>9.6</td>\n",
       "      <td>29</td>\n",
       "      <td>221</td>\n",
       "    </tr>\n",
       "    <tr>\n",
       "      <th>2</th>\n",
       "      <td>2014</td>\n",
       "      <td>ACURA</td>\n",
       "      <td>ILX HYBRID</td>\n",
       "      <td>COMPACT</td>\n",
       "      <td>1.5</td>\n",
       "      <td>4</td>\n",
       "      <td>AV7</td>\n",
       "      <td>Z</td>\n",
       "      <td>6.0</td>\n",
       "      <td>5.8</td>\n",
       "      <td>5.9</td>\n",
       "      <td>48</td>\n",
       "      <td>136</td>\n",
       "    </tr>\n",
       "    <tr>\n",
       "      <th>3</th>\n",
       "      <td>2014</td>\n",
       "      <td>ACURA</td>\n",
       "      <td>MDX 4WD</td>\n",
       "      <td>SUV - SMALL</td>\n",
       "      <td>3.5</td>\n",
       "      <td>6</td>\n",
       "      <td>AS6</td>\n",
       "      <td>Z</td>\n",
       "      <td>12.7</td>\n",
       "      <td>9.1</td>\n",
       "      <td>11.1</td>\n",
       "      <td>25</td>\n",
       "      <td>255</td>\n",
       "    </tr>\n",
       "    <tr>\n",
       "      <th>4</th>\n",
       "      <td>2014</td>\n",
       "      <td>ACURA</td>\n",
       "      <td>RDX AWD</td>\n",
       "      <td>SUV - SMALL</td>\n",
       "      <td>3.5</td>\n",
       "      <td>6</td>\n",
       "      <td>AS6</td>\n",
       "      <td>Z</td>\n",
       "      <td>12.1</td>\n",
       "      <td>8.7</td>\n",
       "      <td>10.6</td>\n",
       "      <td>27</td>\n",
       "      <td>244</td>\n",
       "    </tr>\n",
       "    <tr>\n",
       "      <th>...</th>\n",
       "      <td>...</td>\n",
       "      <td>...</td>\n",
       "      <td>...</td>\n",
       "      <td>...</td>\n",
       "      <td>...</td>\n",
       "      <td>...</td>\n",
       "      <td>...</td>\n",
       "      <td>...</td>\n",
       "      <td>...</td>\n",
       "      <td>...</td>\n",
       "      <td>...</td>\n",
       "      <td>...</td>\n",
       "      <td>...</td>\n",
       "    </tr>\n",
       "    <tr>\n",
       "      <th>1062</th>\n",
       "      <td>2014</td>\n",
       "      <td>VOLVO</td>\n",
       "      <td>XC60 AWD</td>\n",
       "      <td>SUV - SMALL</td>\n",
       "      <td>3.0</td>\n",
       "      <td>6</td>\n",
       "      <td>AS6</td>\n",
       "      <td>X</td>\n",
       "      <td>13.4</td>\n",
       "      <td>9.8</td>\n",
       "      <td>11.8</td>\n",
       "      <td>24</td>\n",
       "      <td>271</td>\n",
       "    </tr>\n",
       "    <tr>\n",
       "      <th>1063</th>\n",
       "      <td>2014</td>\n",
       "      <td>VOLVO</td>\n",
       "      <td>XC60 AWD</td>\n",
       "      <td>SUV - SMALL</td>\n",
       "      <td>3.2</td>\n",
       "      <td>6</td>\n",
       "      <td>AS6</td>\n",
       "      <td>X</td>\n",
       "      <td>13.2</td>\n",
       "      <td>9.5</td>\n",
       "      <td>11.5</td>\n",
       "      <td>25</td>\n",
       "      <td>264</td>\n",
       "    </tr>\n",
       "    <tr>\n",
       "      <th>1064</th>\n",
       "      <td>2014</td>\n",
       "      <td>VOLVO</td>\n",
       "      <td>XC70 AWD</td>\n",
       "      <td>SUV - SMALL</td>\n",
       "      <td>3.0</td>\n",
       "      <td>6</td>\n",
       "      <td>AS6</td>\n",
       "      <td>X</td>\n",
       "      <td>13.4</td>\n",
       "      <td>9.8</td>\n",
       "      <td>11.8</td>\n",
       "      <td>24</td>\n",
       "      <td>271</td>\n",
       "    </tr>\n",
       "    <tr>\n",
       "      <th>1065</th>\n",
       "      <td>2014</td>\n",
       "      <td>VOLVO</td>\n",
       "      <td>XC70 AWD</td>\n",
       "      <td>SUV - SMALL</td>\n",
       "      <td>3.2</td>\n",
       "      <td>6</td>\n",
       "      <td>AS6</td>\n",
       "      <td>X</td>\n",
       "      <td>12.9</td>\n",
       "      <td>9.3</td>\n",
       "      <td>11.3</td>\n",
       "      <td>25</td>\n",
       "      <td>260</td>\n",
       "    </tr>\n",
       "    <tr>\n",
       "      <th>1066</th>\n",
       "      <td>2014</td>\n",
       "      <td>VOLVO</td>\n",
       "      <td>XC90 AWD</td>\n",
       "      <td>SUV - STANDARD</td>\n",
       "      <td>3.2</td>\n",
       "      <td>6</td>\n",
       "      <td>AS6</td>\n",
       "      <td>X</td>\n",
       "      <td>14.9</td>\n",
       "      <td>10.2</td>\n",
       "      <td>12.8</td>\n",
       "      <td>22</td>\n",
       "      <td>294</td>\n",
       "    </tr>\n",
       "  </tbody>\n",
       "</table>\n",
       "<p>1067 rows × 13 columns</p>\n",
       "</div>"
      ],
      "text/plain": [
       "      MODELYEAR   MAKE       MODEL    VEHICLECLASS  ENGINESIZE  CYLINDERS  \\\n",
       "0          2014  ACURA         ILX         COMPACT         2.0          4   \n",
       "1          2014  ACURA         ILX         COMPACT         2.4          4   \n",
       "2          2014  ACURA  ILX HYBRID         COMPACT         1.5          4   \n",
       "3          2014  ACURA     MDX 4WD     SUV - SMALL         3.5          6   \n",
       "4          2014  ACURA     RDX AWD     SUV - SMALL         3.5          6   \n",
       "...         ...    ...         ...             ...         ...        ...   \n",
       "1062       2014  VOLVO    XC60 AWD     SUV - SMALL         3.0          6   \n",
       "1063       2014  VOLVO    XC60 AWD     SUV - SMALL         3.2          6   \n",
       "1064       2014  VOLVO    XC70 AWD     SUV - SMALL         3.0          6   \n",
       "1065       2014  VOLVO    XC70 AWD     SUV - SMALL         3.2          6   \n",
       "1066       2014  VOLVO    XC90 AWD  SUV - STANDARD         3.2          6   \n",
       "\n",
       "     TRANSMISSION FUELTYPE  FUELCONSCITY  FUELCONSHWY  FUELCONSCOMB  \\\n",
       "0             AS5        Z           9.9          6.7           8.5   \n",
       "1              M6        Z          11.2          7.7           9.6   \n",
       "2             AV7        Z           6.0          5.8           5.9   \n",
       "3             AS6        Z          12.7          9.1          11.1   \n",
       "4             AS6        Z          12.1          8.7          10.6   \n",
       "...           ...      ...           ...          ...           ...   \n",
       "1062          AS6        X          13.4          9.8          11.8   \n",
       "1063          AS6        X          13.2          9.5          11.5   \n",
       "1064          AS6        X          13.4          9.8          11.8   \n",
       "1065          AS6        X          12.9          9.3          11.3   \n",
       "1066          AS6        X          14.9         10.2          12.8   \n",
       "\n",
       "      FUELCONSCOMBMPG  CO2EMISSIONS  \n",
       "0                  33           196  \n",
       "1                  29           221  \n",
       "2                  48           136  \n",
       "3                  25           255  \n",
       "4                  27           244  \n",
       "...               ...           ...  \n",
       "1062               24           271  \n",
       "1063               25           264  \n",
       "1064               24           271  \n",
       "1065               25           260  \n",
       "1066               22           294  \n",
       "\n",
       "[1067 rows x 13 columns]"
      ]
     },
     "execution_count": 7,
     "metadata": {},
     "output_type": "execute_result"
    }
   ],
   "source": [
    "# Renomear as colunas, conforme foi solicitado\n",
    "df = df.rename(columns={'FUELCONSUMPTION_CITY': 'FUELCONSCITY'})\n",
    "df = df.rename(columns={'FUELCONSUMPTION_HWY': 'FUELCONSHWY'})\n",
    "df = df.rename(columns={'FUELCONSUMPTION_COMB': 'FUELCONSCOMB'})\n",
    "df = df.rename(columns={'FUELCONSUMPTION_COMB_MPG': 'FUELCONSCOMBMPG'})\n",
    "df"
   ]
  },
  {
   "cell_type": "markdown",
   "id": "4e7f4307",
   "metadata": {},
   "source": [
    "3. Crie um novo dataframe com as seguintes colunas:\n",
    "\n",
    "'ENGINESIZE','CYLINDERS','FUELCONSCOMB','CO2EMISSIONS'"
   ]
  },
  {
   "cell_type": "code",
   "execution_count": 8,
   "id": "55db352d",
   "metadata": {},
   "outputs": [
    {
     "data": {
      "text/html": [
       "<div>\n",
       "<style scoped>\n",
       "    .dataframe tbody tr th:only-of-type {\n",
       "        vertical-align: middle;\n",
       "    }\n",
       "\n",
       "    .dataframe tbody tr th {\n",
       "        vertical-align: top;\n",
       "    }\n",
       "\n",
       "    .dataframe thead th {\n",
       "        text-align: right;\n",
       "    }\n",
       "</style>\n",
       "<table border=\"1\" class=\"dataframe\">\n",
       "  <thead>\n",
       "    <tr style=\"text-align: right;\">\n",
       "      <th></th>\n",
       "      <th>ENGINESIZE</th>\n",
       "      <th>CYLINDERS</th>\n",
       "      <th>FUELCONSCOMB</th>\n",
       "      <th>CO2EMISSIONS</th>\n",
       "    </tr>\n",
       "  </thead>\n",
       "  <tbody>\n",
       "    <tr>\n",
       "      <th>0</th>\n",
       "      <td>2.0</td>\n",
       "      <td>4</td>\n",
       "      <td>8.5</td>\n",
       "      <td>196</td>\n",
       "    </tr>\n",
       "    <tr>\n",
       "      <th>1</th>\n",
       "      <td>2.4</td>\n",
       "      <td>4</td>\n",
       "      <td>9.6</td>\n",
       "      <td>221</td>\n",
       "    </tr>\n",
       "    <tr>\n",
       "      <th>2</th>\n",
       "      <td>1.5</td>\n",
       "      <td>4</td>\n",
       "      <td>5.9</td>\n",
       "      <td>136</td>\n",
       "    </tr>\n",
       "    <tr>\n",
       "      <th>3</th>\n",
       "      <td>3.5</td>\n",
       "      <td>6</td>\n",
       "      <td>11.1</td>\n",
       "      <td>255</td>\n",
       "    </tr>\n",
       "    <tr>\n",
       "      <th>4</th>\n",
       "      <td>3.5</td>\n",
       "      <td>6</td>\n",
       "      <td>10.6</td>\n",
       "      <td>244</td>\n",
       "    </tr>\n",
       "    <tr>\n",
       "      <th>...</th>\n",
       "      <td>...</td>\n",
       "      <td>...</td>\n",
       "      <td>...</td>\n",
       "      <td>...</td>\n",
       "    </tr>\n",
       "    <tr>\n",
       "      <th>1062</th>\n",
       "      <td>3.0</td>\n",
       "      <td>6</td>\n",
       "      <td>11.8</td>\n",
       "      <td>271</td>\n",
       "    </tr>\n",
       "    <tr>\n",
       "      <th>1063</th>\n",
       "      <td>3.2</td>\n",
       "      <td>6</td>\n",
       "      <td>11.5</td>\n",
       "      <td>264</td>\n",
       "    </tr>\n",
       "    <tr>\n",
       "      <th>1064</th>\n",
       "      <td>3.0</td>\n",
       "      <td>6</td>\n",
       "      <td>11.8</td>\n",
       "      <td>271</td>\n",
       "    </tr>\n",
       "    <tr>\n",
       "      <th>1065</th>\n",
       "      <td>3.2</td>\n",
       "      <td>6</td>\n",
       "      <td>11.3</td>\n",
       "      <td>260</td>\n",
       "    </tr>\n",
       "    <tr>\n",
       "      <th>1066</th>\n",
       "      <td>3.2</td>\n",
       "      <td>6</td>\n",
       "      <td>12.8</td>\n",
       "      <td>294</td>\n",
       "    </tr>\n",
       "  </tbody>\n",
       "</table>\n",
       "<p>1067 rows × 4 columns</p>\n",
       "</div>"
      ],
      "text/plain": [
       "      ENGINESIZE  CYLINDERS  FUELCONSCOMB  CO2EMISSIONS\n",
       "0            2.0          4           8.5           196\n",
       "1            2.4          4           9.6           221\n",
       "2            1.5          4           5.9           136\n",
       "3            3.5          6          11.1           255\n",
       "4            3.5          6          10.6           244\n",
       "...          ...        ...           ...           ...\n",
       "1062         3.0          6          11.8           271\n",
       "1063         3.2          6          11.5           264\n",
       "1064         3.0          6          11.8           271\n",
       "1065         3.2          6          11.3           260\n",
       "1066         3.2          6          12.8           294\n",
       "\n",
       "[1067 rows x 4 columns]"
      ]
     },
     "execution_count": 8,
     "metadata": {},
     "output_type": "execute_result"
    }
   ],
   "source": [
    "# Criar o novo dataset, conforme foi solicitado\n",
    "new_df = df[['ENGINESIZE','CYLINDERS','FUELCONSCOMB','CO2EMISSIONS']]\n",
    "new_df"
   ]
  },
  {
   "cell_type": "markdown",
   "id": "fb3bbe28",
   "metadata": {},
   "source": [
    "4. Faça as seguintes análises:\n",
    "\n",
    "- 4.1. Separe os dados de treino e teste\n",
    "- 4.2. Import sklearn library\n",
    "- 4.3. Crie a variável com o modelo de Regressão Linear\n",
    "- 4.4. Separe os dados de treino e teste <code style=\"color:red\">(Item desconsiderado por sugestão do professor)</code>"
   ]
  },
  {
   "cell_type": "code",
   "execution_count": 9,
   "id": "c1535273",
   "metadata": {},
   "outputs": [
    {
     "name": "stdout",
     "output_type": "stream",
     "text": [
      "Dados de Treino =  (742, 4)\n",
      "Dados de Teste   =  (325, 4)\n"
     ]
    }
   ],
   "source": [
    "#Separar em dados de treino e teste: até 70% para treino, e o restante para teste\n",
    "aux = np.random.rand(len(df)) <= 0.70\n",
    "new_dfTrain = new_df[aux]\n",
    "new_dfTest = new_df[~aux]\n",
    "\n",
    "# Exibir o tamnanho da amostra de teste e de treino\n",
    "print('Dados de Treino = ', new_dfTrain.shape)\n",
    "print('Dados de Teste   = ', new_dfTest.shape)"
   ]
  },
  {
   "cell_type": "code",
   "execution_count": 10,
   "id": "8f1ea645",
   "metadata": {},
   "outputs": [],
   "source": [
    "# Importrar a biblioteca Sklearn\n",
    "from sklearn import linear_model"
   ]
  },
  {
   "cell_type": "code",
   "execution_count": 11,
   "id": "dabdef46",
   "metadata": {},
   "outputs": [],
   "source": [
    "# Criar modelo de Regressão Linear\n",
    "reg = linear_model.LinearRegression()"
   ]
  },
  {
   "cell_type": "markdown",
   "id": "86cf495b",
   "metadata": {},
   "source": [
    "- 4.5. Separe as Features de Treino e Teste\n",
    "- 4.6. Rode o Modelo\n",
    "- 4.7. Defina os valores para os coeficientes Theta 0: Intercepto e Theta 1: Coeficiente\n",
    "- 4.7. Plot o Gráfico de Regressão Linear com a Reta Ajustada\n",
    "- 4.8. Encontre o R2-Score"
   ]
  },
  {
   "cell_type": "code",
   "execution_count": 12,
   "id": "7a3f5923",
   "metadata": {},
   "outputs": [
    {
     "data": {
      "text/html": [
       "<style>#sk-container-id-1 {color: black;background-color: white;}#sk-container-id-1 pre{padding: 0;}#sk-container-id-1 div.sk-toggleable {background-color: white;}#sk-container-id-1 label.sk-toggleable__label {cursor: pointer;display: block;width: 100%;margin-bottom: 0;padding: 0.3em;box-sizing: border-box;text-align: center;}#sk-container-id-1 label.sk-toggleable__label-arrow:before {content: \"▸\";float: left;margin-right: 0.25em;color: #696969;}#sk-container-id-1 label.sk-toggleable__label-arrow:hover:before {color: black;}#sk-container-id-1 div.sk-estimator:hover label.sk-toggleable__label-arrow:before {color: black;}#sk-container-id-1 div.sk-toggleable__content {max-height: 0;max-width: 0;overflow: hidden;text-align: left;background-color: #f0f8ff;}#sk-container-id-1 div.sk-toggleable__content pre {margin: 0.2em;color: black;border-radius: 0.25em;background-color: #f0f8ff;}#sk-container-id-1 input.sk-toggleable__control:checked~div.sk-toggleable__content {max-height: 200px;max-width: 100%;overflow: auto;}#sk-container-id-1 input.sk-toggleable__control:checked~label.sk-toggleable__label-arrow:before {content: \"▾\";}#sk-container-id-1 div.sk-estimator input.sk-toggleable__control:checked~label.sk-toggleable__label {background-color: #d4ebff;}#sk-container-id-1 div.sk-label input.sk-toggleable__control:checked~label.sk-toggleable__label {background-color: #d4ebff;}#sk-container-id-1 input.sk-hidden--visually {border: 0;clip: rect(1px 1px 1px 1px);clip: rect(1px, 1px, 1px, 1px);height: 1px;margin: -1px;overflow: hidden;padding: 0;position: absolute;width: 1px;}#sk-container-id-1 div.sk-estimator {font-family: monospace;background-color: #f0f8ff;border: 1px dotted black;border-radius: 0.25em;box-sizing: border-box;margin-bottom: 0.5em;}#sk-container-id-1 div.sk-estimator:hover {background-color: #d4ebff;}#sk-container-id-1 div.sk-parallel-item::after {content: \"\";width: 100%;border-bottom: 1px solid gray;flex-grow: 1;}#sk-container-id-1 div.sk-label:hover label.sk-toggleable__label {background-color: #d4ebff;}#sk-container-id-1 div.sk-serial::before {content: \"\";position: absolute;border-left: 1px solid gray;box-sizing: border-box;top: 0;bottom: 0;left: 50%;z-index: 0;}#sk-container-id-1 div.sk-serial {display: flex;flex-direction: column;align-items: center;background-color: white;padding-right: 0.2em;padding-left: 0.2em;position: relative;}#sk-container-id-1 div.sk-item {position: relative;z-index: 1;}#sk-container-id-1 div.sk-parallel {display: flex;align-items: stretch;justify-content: center;background-color: white;position: relative;}#sk-container-id-1 div.sk-item::before, #sk-container-id-1 div.sk-parallel-item::before {content: \"\";position: absolute;border-left: 1px solid gray;box-sizing: border-box;top: 0;bottom: 0;left: 50%;z-index: -1;}#sk-container-id-1 div.sk-parallel-item {display: flex;flex-direction: column;z-index: 1;position: relative;background-color: white;}#sk-container-id-1 div.sk-parallel-item:first-child::after {align-self: flex-end;width: 50%;}#sk-container-id-1 div.sk-parallel-item:last-child::after {align-self: flex-start;width: 50%;}#sk-container-id-1 div.sk-parallel-item:only-child::after {width: 0;}#sk-container-id-1 div.sk-dashed-wrapped {border: 1px dashed gray;margin: 0 0.4em 0.5em 0.4em;box-sizing: border-box;padding-bottom: 0.4em;background-color: white;}#sk-container-id-1 div.sk-label label {font-family: monospace;font-weight: bold;display: inline-block;line-height: 1.2em;}#sk-container-id-1 div.sk-label-container {text-align: center;}#sk-container-id-1 div.sk-container {/* jupyter's `normalize.less` sets `[hidden] { display: none; }` but bootstrap.min.css set `[hidden] { display: none !important; }` so we also need the `!important` here to be able to override the default hidden behavior on the sphinx rendered scikit-learn.org. See: https://github.com/scikit-learn/scikit-learn/issues/21755 */display: inline-block !important;position: relative;}#sk-container-id-1 div.sk-text-repr-fallback {display: none;}</style><div id=\"sk-container-id-1\" class=\"sk-top-container\"><div class=\"sk-text-repr-fallback\"><pre>LinearRegression()</pre><b>In a Jupyter environment, please rerun this cell to show the HTML representation or trust the notebook. <br />On GitHub, the HTML representation is unable to render, please try loading this page with nbviewer.org.</b></div><div class=\"sk-container\" hidden><div class=\"sk-item\"><div class=\"sk-estimator sk-toggleable\"><input class=\"sk-toggleable__control sk-hidden--visually\" id=\"sk-estimator-id-1\" type=\"checkbox\" checked><label for=\"sk-estimator-id-1\" class=\"sk-toggleable__label sk-toggleable__label-arrow\">LinearRegression</label><div class=\"sk-toggleable__content\"><pre>LinearRegression()</pre></div></div></div></div></div>"
      ],
      "text/plain": [
       "LinearRegression()"
      ]
     },
     "execution_count": 12,
     "metadata": {},
     "output_type": "execute_result"
    }
   ],
   "source": [
    "# Separar as Feature de Treino\n",
    "X_train = new_dfTrain[['ENGINESIZE']]\n",
    "Y_train = new_dfTrain[['CO2EMISSIONS']]\n",
    "\n",
    "# Separar as Feature de Teste\n",
    "X_test = new_dfTest[['ENGINESIZE']]\n",
    "Y_test = new_dfTest[['CO2EMISSIONS']]\n",
    "\n",
    "# Treinamento do modelo de Regressão Linear\n",
    "reg.fit(X_train, Y_train)"
   ]
  },
  {
   "cell_type": "code",
   "execution_count": 13,
   "id": "b54b3121",
   "metadata": {},
   "outputs": [
    {
     "name": "stdout",
     "output_type": "stream",
     "text": [
      "Coeficiente:  39.541774218153144\n",
      "Intercepto:  124.16368072848556\n",
      "\n",
      "Y = 124.16 + 39.54*ENGINESIZE\n"
     ]
    }
   ],
   "source": [
    "# Obtenção do coeficiente e intercepto\n",
    "a = reg.intercept_[0]\n",
    "b = reg.coef_[0,0]\n",
    "\n",
    "# Exibição do coeficiente e intercepto\n",
    "print ('Coeficiente: ', b)\n",
    "print ('Intercepto: ', a)\n",
    "\n",
    "# Exibição da equação da reta\n",
    "print(\"\\nY = {:.2f} + {:.2f}*ENGINESIZE\".format(a, b))"
   ]
  },
  {
   "cell_type": "code",
   "execution_count": 14,
   "id": "0e86587f",
   "metadata": {},
   "outputs": [
    {
     "data": {
      "image/png": "[encoded data removed]",
      "text/plain": [
       "<Figure size 640x480 with 1 Axes>"
      ]
     },
     "metadata": {},
     "output_type": "display_data"
    }
   ],
   "source": [
    "# Plotar a reta de Regressão Linear no mesmo plano da distribuição dos dados\n",
    "plt.scatter(y=Y_train, x=X_train, color='blue', s=10, alpha=0.9)\n",
    "X_plot = np.linspace(0, 9)\n",
    "plt.plot(X_plot, a + X_plot*b, color='r', label=\"Y = {:.2f} + {:.2f}*ENGINESIZE\".format(a, b))\n",
    "plt.title('Reta de Regressão Linear')\n",
    "plt.ylabel('CO2EMISSIONS')\n",
    "plt.xlabel('ENGINESIZE')\n",
    "plt.legend()\n",
    "plt.show()"
   ]
  },
  {
   "cell_type": "code",
   "execution_count": 15,
   "id": "b1a706bc",
   "metadata": {},
   "outputs": [
    {
     "name": "stdout",
     "output_type": "stream",
     "text": [
      "R2-score: 0.78\n"
     ]
    }
   ],
   "source": [
    "# importar a biblioteca necessária para obter o R2 score\n",
    "from sklearn.metrics import r2_score\n",
    "\n",
    "# Realizar previsões com o modelo de Regressão Linear\n",
    "Y_test_ = reg.predict(X_test)\n",
    "\n",
    "# Cálculo e exibição do R2-Score\n",
    "print(\"R2-score: %.2f\" % r2_score(Y_test , Y_test_) )"
   ]
  },
  {
   "cell_type": "markdown",
   "id": "a5568b4c",
   "metadata": {},
   "source": [
    "- 4.5. Separe as Features de Treino e Teste\n",
    "- 4.6. Rode o Modelo\n",
    "- 4.7. Defina os valores para os coeficientes Theta 0: Intercepto e Theta 1: Coeficiente\n",
    "- 4.7. Plot o Gráfico de Regressão Linear com a Reta Ajustada\n",
    "- 4.8. Encontre o R2-Score"
   ]
  },
  {
   "cell_type": "code",
   "execution_count": 16,
   "id": "4fc7e098",
   "metadata": {},
   "outputs": [
    {
     "data": {
      "text/html": [
       "<style>#sk-container-id-2 {color: black;background-color: white;}#sk-container-id-2 pre{padding: 0;}#sk-container-id-2 div.sk-toggleable {background-color: white;}#sk-container-id-2 label.sk-toggleable__label {cursor: pointer;display: block;width: 100%;margin-bottom: 0;padding: 0.3em;box-sizing: border-box;text-align: center;}#sk-container-id-2 label.sk-toggleable__label-arrow:before {content: \"▸\";float: left;margin-right: 0.25em;color: #696969;}#sk-container-id-2 label.sk-toggleable__label-arrow:hover:before {color: black;}#sk-container-id-2 div.sk-estimator:hover label.sk-toggleable__label-arrow:before {color: black;}#sk-container-id-2 div.sk-toggleable__content {max-height: 0;max-width: 0;overflow: hidden;text-align: left;background-color: #f0f8ff;}#sk-container-id-2 div.sk-toggleable__content pre {margin: 0.2em;color: black;border-radius: 0.25em;background-color: #f0f8ff;}#sk-container-id-2 input.sk-toggleable__control:checked~div.sk-toggleable__content {max-height: 200px;max-width: 100%;overflow: auto;}#sk-container-id-2 input.sk-toggleable__control:checked~label.sk-toggleable__label-arrow:before {content: \"▾\";}#sk-container-id-2 div.sk-estimator input.sk-toggleable__control:checked~label.sk-toggleable__label {background-color: #d4ebff;}#sk-container-id-2 div.sk-label input.sk-toggleable__control:checked~label.sk-toggleable__label {background-color: #d4ebff;}#sk-container-id-2 input.sk-hidden--visually {border: 0;clip: rect(1px 1px 1px 1px);clip: rect(1px, 1px, 1px, 1px);height: 1px;margin: -1px;overflow: hidden;padding: 0;position: absolute;width: 1px;}#sk-container-id-2 div.sk-estimator {font-family: monospace;background-color: #f0f8ff;border: 1px dotted black;border-radius: 0.25em;box-sizing: border-box;margin-bottom: 0.5em;}#sk-container-id-2 div.sk-estimator:hover {background-color: #d4ebff;}#sk-container-id-2 div.sk-parallel-item::after {content: \"\";width: 100%;border-bottom: 1px solid gray;flex-grow: 1;}#sk-container-id-2 div.sk-label:hover label.sk-toggleable__label {background-color: #d4ebff;}#sk-container-id-2 div.sk-serial::before {content: \"\";position: absolute;border-left: 1px solid gray;box-sizing: border-box;top: 0;bottom: 0;left: 50%;z-index: 0;}#sk-container-id-2 div.sk-serial {display: flex;flex-direction: column;align-items: center;background-color: white;padding-right: 0.2em;padding-left: 0.2em;position: relative;}#sk-container-id-2 div.sk-item {position: relative;z-index: 1;}#sk-container-id-2 div.sk-parallel {display: flex;align-items: stretch;justify-content: center;background-color: white;position: relative;}#sk-container-id-2 div.sk-item::before, #sk-container-id-2 div.sk-parallel-item::before {content: \"\";position: absolute;border-left: 1px solid gray;box-sizing: border-box;top: 0;bottom: 0;left: 50%;z-index: -1;}#sk-container-id-2 div.sk-parallel-item {display: flex;flex-direction: column;z-index: 1;position: relative;background-color: white;}#sk-container-id-2 div.sk-parallel-item:first-child::after {align-self: flex-end;width: 50%;}#sk-container-id-2 div.sk-parallel-item:last-child::after {align-self: flex-start;width: 50%;}#sk-container-id-2 div.sk-parallel-item:only-child::after {width: 0;}#sk-container-id-2 div.sk-dashed-wrapped {border: 1px dashed gray;margin: 0 0.4em 0.5em 0.4em;box-sizing: border-box;padding-bottom: 0.4em;background-color: white;}#sk-container-id-2 div.sk-label label {font-family: monospace;font-weight: bold;display: inline-block;line-height: 1.2em;}#sk-container-id-2 div.sk-label-container {text-align: center;}#sk-container-id-2 div.sk-container {/* jupyter's `normalize.less` sets `[hidden] { display: none; }` but bootstrap.min.css set `[hidden] { display: none !important; }` so we also need the `!important` here to be able to override the default hidden behavior on the sphinx rendered scikit-learn.org. See: https://github.com/scikit-learn/scikit-learn/issues/21755 */display: inline-block !important;position: relative;}#sk-container-id-2 div.sk-text-repr-fallback {display: none;}</style><div id=\"sk-container-id-2\" class=\"sk-top-container\"><div class=\"sk-text-repr-fallback\"><pre>LinearRegression()</pre><b>In a Jupyter environment, please rerun this cell to show the HTML representation or trust the notebook. <br />On GitHub, the HTML representation is unable to render, please try loading this page with nbviewer.org.</b></div><div class=\"sk-container\" hidden><div class=\"sk-item\"><div class=\"sk-estimator sk-toggleable\"><input class=\"sk-toggleable__control sk-hidden--visually\" id=\"sk-estimator-id-2\" type=\"checkbox\" checked><label for=\"sk-estimator-id-2\" class=\"sk-toggleable__label sk-toggleable__label-arrow\">LinearRegression</label><div class=\"sk-toggleable__content\"><pre>LinearRegression()</pre></div></div></div></div></div>"
      ],
      "text/plain": [
       "LinearRegression()"
      ]
     },
     "execution_count": 16,
     "metadata": {},
     "output_type": "execute_result"
    }
   ],
   "source": [
    "# Separar as Feature de Treino\n",
    "X_train = new_dfTrain[['CYLINDERS']]\n",
    "Y_train = new_dfTrain[['CO2EMISSIONS']]\n",
    "\n",
    "# Separar as Feature de Teste\n",
    "X_test = new_dfTest[['CYLINDERS']]\n",
    "Y_test = new_dfTest[['CO2EMISSIONS']]\n",
    "\n",
    "# Treinamento do modelo de Regressão Linear\n",
    "reg.fit(X_train, Y_train)"
   ]
  },
  {
   "cell_type": "code",
   "execution_count": 17,
   "id": "57c89ec2",
   "metadata": {},
   "outputs": [
    {
     "name": "stdout",
     "output_type": "stream",
     "text": [
      "Coeficiente:  30.489294545495838\n",
      "Intercepto:  79.84006745381717\n",
      "\n",
      "Y = 79.84 + 30.49*CYLINDERS\n"
     ]
    }
   ],
   "source": [
    "# Obtenção do coeficiente e intercepto\n",
    "a = reg.intercept_[0]\n",
    "b = reg.coef_[0,0]\n",
    "\n",
    "# Exibição do coeficiente e intercepto\n",
    "print ('Coeficiente: ', b)\n",
    "print ('Intercepto: ', a)\n",
    "\n",
    "# Exibição da equação da reta\n",
    "print(\"\\nY = {:.2f} + {:.2f}*CYLINDERS\".format(a, b))"
   ]
  },
  {
   "cell_type": "code",
   "execution_count": 18,
   "id": "cfb65de7",
   "metadata": {},
   "outputs": [
    {
     "data": {
      "image/png": "[encoded data removed]",
      "text/plain": [
       "<Figure size 640x480 with 1 Axes>"
      ]
     },
     "metadata": {},
     "output_type": "display_data"
    }
   ],
   "source": [
    "# Plotar a reta de Regressão Linear no mesmo plano da distribuição dos dados\n",
    "plt.scatter(y=Y_train, x=X_train, color='blue', s=10, alpha=0.9)\n",
    "X_plot = np.linspace(2, 13)\n",
    "plt.plot(X_plot, a + X_plot*b, color='r', label=\"Y = {:.2f} + {:.2f}*CYLINDERS\".format(a, b))\n",
    "plt.title('Reta de Regressão Linear')\n",
    "plt.ylabel('CO2EMISSIONS')\n",
    "plt.xlabel('CYLINDERS')\n",
    "plt.legend()\n",
    "plt.show()"
   ]
  },
  {
   "cell_type": "code",
   "execution_count": 19,
   "id": "ad30ee7e",
   "metadata": {},
   "outputs": [
    {
     "name": "stdout",
     "output_type": "stream",
     "text": [
      "R2-score: 0.73\n"
     ]
    }
   ],
   "source": [
    "# Realizar previsões com o modelo de Regressão Linear\n",
    "Y_test_ = reg.predict(X_test)\n",
    "\n",
    "# Cálculo e exibição do R2-Score\n",
    "print(\"R2-score: %.2f\" % r2_score(Y_test , Y_test_) )"
   ]
  },
  {
   "cell_type": "markdown",
   "id": "2961554c",
   "metadata": {},
   "source": [
    "- 4.5. Separe as Features de Treino e Teste\n",
    "- 4.6. Rode o Modelo\n",
    "- 4.7. Defina os valores para os coeficientes Theta 0: Intercepto e Theta 1: Coeficiente\n",
    "- 4.7. Plot o Gráfico de Regressão Linear com a Reta Ajustada\n",
    "- 4.8. Encontre o R2-Score"
   ]
  },
  {
   "cell_type": "code",
   "execution_count": 20,
   "id": "f7af7489",
   "metadata": {},
   "outputs": [
    {
     "data": {
      "text/html": [
       "<style>#sk-container-id-3 {color: black;background-color: white;}#sk-container-id-3 pre{padding: 0;}#sk-container-id-3 div.sk-toggleable {background-color: white;}#sk-container-id-3 label.sk-toggleable__label {cursor: pointer;display: block;width: 100%;margin-bottom: 0;padding: 0.3em;box-sizing: border-box;text-align: center;}#sk-container-id-3 label.sk-toggleable__label-arrow:before {content: \"▸\";float: left;margin-right: 0.25em;color: #696969;}#sk-container-id-3 label.sk-toggleable__label-arrow:hover:before {color: black;}#sk-container-id-3 div.sk-estimator:hover label.sk-toggleable__label-arrow:before {color: black;}#sk-container-id-3 div.sk-toggleable__content {max-height: 0;max-width: 0;overflow: hidden;text-align: left;background-color: #f0f8ff;}#sk-container-id-3 div.sk-toggleable__content pre {margin: 0.2em;color: black;border-radius: 0.25em;background-color: #f0f8ff;}#sk-container-id-3 input.sk-toggleable__control:checked~div.sk-toggleable__content {max-height: 200px;max-width: 100%;overflow: auto;}#sk-container-id-3 input.sk-toggleable__control:checked~label.sk-toggleable__label-arrow:before {content: \"▾\";}#sk-container-id-3 div.sk-estimator input.sk-toggleable__control:checked~label.sk-toggleable__label {background-color: #d4ebff;}#sk-container-id-3 div.sk-label input.sk-toggleable__control:checked~label.sk-toggleable__label {background-color: #d4ebff;}#sk-container-id-3 input.sk-hidden--visually {border: 0;clip: rect(1px 1px 1px 1px);clip: rect(1px, 1px, 1px, 1px);height: 1px;margin: -1px;overflow: hidden;padding: 0;position: absolute;width: 1px;}#sk-container-id-3 div.sk-estimator {font-family: monospace;background-color: #f0f8ff;border: 1px dotted black;border-radius: 0.25em;box-sizing: border-box;margin-bottom: 0.5em;}#sk-container-id-3 div.sk-estimator:hover {background-color: #d4ebff;}#sk-container-id-3 div.sk-parallel-item::after {content: \"\";width: 100%;border-bottom: 1px solid gray;flex-grow: 1;}#sk-container-id-3 div.sk-label:hover label.sk-toggleable__label {background-color: #d4ebff;}#sk-container-id-3 div.sk-serial::before {content: \"\";position: absolute;border-left: 1px solid gray;box-sizing: border-box;top: 0;bottom: 0;left: 50%;z-index: 0;}#sk-container-id-3 div.sk-serial {display: flex;flex-direction: column;align-items: center;background-color: white;padding-right: 0.2em;padding-left: 0.2em;position: relative;}#sk-container-id-3 div.sk-item {position: relative;z-index: 1;}#sk-container-id-3 div.sk-parallel {display: flex;align-items: stretch;justify-content: center;background-color: white;position: relative;}#sk-container-id-3 div.sk-item::before, #sk-container-id-3 div.sk-parallel-item::before {content: \"\";position: absolute;border-left: 1px solid gray;box-sizing: border-box;top: 0;bottom: 0;left: 50%;z-index: -1;}#sk-container-id-3 div.sk-parallel-item {display: flex;flex-direction: column;z-index: 1;position: relative;background-color: white;}#sk-container-id-3 div.sk-parallel-item:first-child::after {align-self: flex-end;width: 50%;}#sk-container-id-3 div.sk-parallel-item:last-child::after {align-self: flex-start;width: 50%;}#sk-container-id-3 div.sk-parallel-item:only-child::after {width: 0;}#sk-container-id-3 div.sk-dashed-wrapped {border: 1px dashed gray;margin: 0 0.4em 0.5em 0.4em;box-sizing: border-box;padding-bottom: 0.4em;background-color: white;}#sk-container-id-3 div.sk-label label {font-family: monospace;font-weight: bold;display: inline-block;line-height: 1.2em;}#sk-container-id-3 div.sk-label-container {text-align: center;}#sk-container-id-3 div.sk-container {/* jupyter's `normalize.less` sets `[hidden] { display: none; }` but bootstrap.min.css set `[hidden] { display: none !important; }` so we also need the `!important` here to be able to override the default hidden behavior on the sphinx rendered scikit-learn.org. See: https://github.com/scikit-learn/scikit-learn/issues/21755 */display: inline-block !important;position: relative;}#sk-container-id-3 div.sk-text-repr-fallback {display: none;}</style><div id=\"sk-container-id-3\" class=\"sk-top-container\"><div class=\"sk-text-repr-fallback\"><pre>LinearRegression()</pre><b>In a Jupyter environment, please rerun this cell to show the HTML representation or trust the notebook. <br />On GitHub, the HTML representation is unable to render, please try loading this page with nbviewer.org.</b></div><div class=\"sk-container\" hidden><div class=\"sk-item\"><div class=\"sk-estimator sk-toggleable\"><input class=\"sk-toggleable__control sk-hidden--visually\" id=\"sk-estimator-id-3\" type=\"checkbox\" checked><label for=\"sk-estimator-id-3\" class=\"sk-toggleable__label sk-toggleable__label-arrow\">LinearRegression</label><div class=\"sk-toggleable__content\"><pre>LinearRegression()</pre></div></div></div></div></div>"
      ],
      "text/plain": [
       "LinearRegression()"
      ]
     },
     "execution_count": 20,
     "metadata": {},
     "output_type": "execute_result"
    }
   ],
   "source": [
    "# Separar as Feature de Treino\n",
    "X_train = new_dfTrain[['FUELCONSCOMB']]\n",
    "Y_train = new_dfTrain[['CO2EMISSIONS']]\n",
    "\n",
    "# Separar as Feature de Teste\n",
    "X_test = new_dfTest[['FUELCONSCOMB']]\n",
    "Y_test = new_dfTest[['CO2EMISSIONS']]\n",
    "\n",
    "# Treinamento do modelo de Regressão Linear\n",
    "reg.fit(X_train, Y_train)"
   ]
  },
  {
   "cell_type": "code",
   "execution_count": 21,
   "id": "bbdfae65",
   "metadata": {},
   "outputs": [
    {
     "name": "stdout",
     "output_type": "stream",
     "text": [
      "Coeficiente:  16.28112926846267\n",
      "Intercepto:  67.31829419696766\n",
      "\n",
      "Y = 67.32 + 16.28*FUELCONSCOMB\n"
     ]
    }
   ],
   "source": [
    "# Obtenção do coeficiente e intercepto\n",
    "a = reg.intercept_[0]\n",
    "b = reg.coef_[0,0]\n",
    "\n",
    "# Exibição do coeficiente e intercepto\n",
    "print ('Coeficiente: ', b)\n",
    "print ('Intercepto: ', a)\n",
    "\n",
    "# Exibição da equação da reta\n",
    "print(\"\\nY = {:.2f} + {:.2f}*FUELCONSCOMB\".format(a, b))"
   ]
  },
  {
   "cell_type": "code",
   "execution_count": 22,
   "id": "c30a31a1",
   "metadata": {},
   "outputs": [
    {
     "data": {
      "image/png": "[encoded data removed]",
      "text/plain": [
       "<Figure size 640x480 with 1 Axes>"
      ]
     },
     "metadata": {},
     "output_type": "display_data"
    }
   ],
   "source": [
    "# Plotar a reta de Regressão Linear no mesmo plano da distribuição dos dados\n",
    "plt.scatter(y=Y_train, x=X_train, color='blue', s=10, alpha=0.9)\n",
    "X_plot = np.linspace(3, 27)\n",
    "plt.plot(X_plot, a + X_plot*b, color='r', label=\"Y = {:.2f} + {:.2f}*FUELCONSCOMB\".format(a, b))\n",
    "plt.title('Reta de Regressão Linear')\n",
    "plt.ylabel('CO2EMISSIONS')\n",
    "plt.xlabel('FUELCONSCOMB')\n",
    "plt.legend()\n",
    "plt.show()"
   ]
  },
  {
   "cell_type": "code",
   "execution_count": 23,
   "id": "50820fd1",
   "metadata": {},
   "outputs": [
    {
     "name": "stdout",
     "output_type": "stream",
     "text": [
      "R2-score: 0.80\n"
     ]
    }
   ],
   "source": [
    "# Realizar previsões com o modelo de Regressão Linear\n",
    "Y_test_ = reg.predict(X_test)\n",
    "\n",
    "# Cálculo e exibição do R2-Score\n",
    "print(\"R2-score: %.2f\" % r2_score(Y_test , Y_test_) )"
   ]
  },
  {
   "cell_type": "markdown",
   "id": "3f53ab4c",
   "metadata": {},
   "source": [
    "5. Encontre o Melhor ajuste (R2-Score) entre as combinações de variáveis abaixo:\n",
    "\n",
    "- 5.1.  FUELCONSCOMB & CO2EMISSIONS <code style=\"color:red\">(Encontrado anteriormente)</code>\n",
    "\n",
    "- 5.2. CYLINDERS & CO2EMISSIONS <code style=\"color:red\">(Encontrado anteriormente)</code>\n",
    "\n",
    "- 5.3. ENGINESIZE & CO2EMISSIONS <code style=\"color:red\">(Encontrado anteriormente)</code>"
   ]
  },
  {
   "cell_type": "markdown",
   "id": "9ec80bcb",
   "metadata": {},
   "source": [
    "6. Tente realizar uma Regressão Linear Múltipla. Use as três variáveis\n",
    "\n",
    "- ENGINESIZE\n",
    "\n",
    "- CYLINDERS\n",
    "\n",
    "- FUELCONSCOMB"
   ]
  },
  {
   "cell_type": "code",
   "execution_count": 24,
   "id": "585f1d84",
   "metadata": {},
   "outputs": [
    {
     "name": "stdout",
     "output_type": "stream",
     "text": [
      "Coeficiente 0:  10.876858632260875\n",
      "Coeficiente 1:  7.528651749158273\n",
      "Coeficiente 2:  9.76058541818426\n",
      "Intercepto:  63.151885700641174\n",
      "\n",
      "Y = 63.15 + 10.88*ENGINESIZE + 7.53*CYLINDERS + 9.76*FUELCONSCOMB\n"
     ]
    }
   ],
   "source": [
    "# Separar as Feature de Treino\n",
    "X_train = new_dfTrain[['ENGINESIZE','CYLINDERS','FUELCONSCOMB']]\n",
    "Y_train = new_dfTrain[['CO2EMISSIONS']]\n",
    "\n",
    "# Separar as Feature de Teste\n",
    "X_test = new_dfTest[['ENGINESIZE','CYLINDERS','FUELCONSCOMB']]\n",
    "Y_test = new_dfTest[['CO2EMISSIONS']]\n",
    "\n",
    "# Treinamento do modelo de Regressão Linear\n",
    "reg.fit(X_train, Y_train)\n",
    "\n",
    "# Obtenção dos coeficientes e intercepto\n",
    "a = reg.intercept_[0]\n",
    "b0 = reg.coef_[0,0]\n",
    "b1 = reg.coef_[0,1]\n",
    "b2 = reg.coef_[0,2]\n",
    "\n",
    "# Exibição dos coeficientes e intercepto\n",
    "print ('Coeficiente 0: ', b0)\n",
    "print ('Coeficiente 1: ', b1)\n",
    "print ('Coeficiente 2: ', b2)\n",
    "print ('Intercepto: ', a)\n",
    "\n",
    "# Exibição da equação da reta\n",
    "print(\"\\nY = {:.2f} + {:.2f}*ENGINESIZE + {:.2f}*CYLINDERS + {:.2f}*FUELCONSCOMB\".format(a, b0, b1, b2))"
   ]
  },
  {
   "cell_type": "code",
   "execution_count": 25,
   "id": "2981302e",
   "metadata": {},
   "outputs": [
    {
     "name": "stdout",
     "output_type": "stream",
     "text": [
      "R2-score: 0.87\n"
     ]
    }
   ],
   "source": [
    "# Realizar previsões com o modelo de Regressão Linear\n",
    "Y_test_ = reg.predict(X_test)\n",
    "\n",
    "# Cálculo e exibição do R2-Score\n",
    "print(\"R2-score: %.2f\" % r2_score(Y_test , Y_test_) )"
   ]
  },
  {
   "cell_type": "code",
   "execution_count": null,
   "id": "96d1d053",
   "metadata": {},
   "outputs": [],
   "source": []
  }
 ],
 "metadata": {
  "kernelspec": {
   "display_name": "Python 3 (ipykernel)",
   "language": "python",
   "name": "python3"
  },
  "language_info": {
   "codemirror_mode": {
    "name": "ipython",
    "version": 3
   },
   "file_extension": ".py",
   "mimetype": "text/x-python",
   "name": "python",
   "nbconvert_exporter": "python",
   "pygments_lexer": "ipython3",
   "version": "3.9.16"
  }
 },
 "nbformat": 4,
 "nbformat_minor": 5
}
